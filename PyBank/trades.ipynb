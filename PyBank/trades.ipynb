{
 "cells": [
  {
   "cell_type": "code",
   "execution_count": 1,
   "id": "bc6197db-9a8c-4ec5-988d-080afb074c9e",
   "metadata": {},
   "outputs": [],
   "source": [
    "# -*- coding: utf-8 -*-\n",
    "\"\"\"\n",
    "Student Activity: Weekly Gains.\n",
    "\n",
    "This script showcases how to use nested list/dict objects to\n",
    "calculate weekly gains of stock tickers.\n",
    "\"\"\"\n",
    "\n",
    "# Dictionary of List of Lists\n",
    "# Key: Stock Ticker | Value: List of Records\n",
    "# Record: Date, Open, High, Low, Close\n",
    "historical_stock_data = {\n",
    "    \"AAPL\": [\n",
    "        [\"04-17-2019\", 199.54, 203.38, 198.61, 203.13],\n",
    "        [\"04-18-2019\", 199.46, 201.37, 198.56, 199.25],\n",
    "        [\"04-19-2019\", 198.58, 199.85, 198.01, 199.23],\n",
    "        [\"04-20-2019\", 199.20, 200.14, 196.21, 198.87],\n",
    "\n",
    "    ],\n",
    "    \"MU\": [\n",
    "        [\"04-17-2019\", 43.20, 43.53, 42.79, 43.40],\n",
    "        [\"04-18-2019\", 43.36, 44.05, 42.76, 43.15],\n",
    "        [\"04-19-2019\", 42.26, 42.93, 42.08, 42.76],\n",
    "        [\"04-20-2019\", 42.17, 42.23, 41.20, 41.82],\n",
    "\n",
    "    ],\n",
    "    \"AMD\": [\n",
    "        [\"04-17-2019\", 27.60, 27.88, 27.34, 27.68],\n",
    "        [\"04-18-2019\", 28.21, 28.27, 27.22, 27.49],\n",
    "        [\"04-19-2019\", 27.72, 28.18, 27.49, 27.93],\n",
    "        [\"04-20-2019\", 27.80, 27.84, 26.96, 27.33],\n",
    "\n",
    "    ],\n",
    "    \"TWTR\": [\n",
    "        [\"04-17-2019\", 34.67, 34.86, 34.32, 34.40],\n",
    "        [\"04-18-2019\", 34.73, 34.90, 34.20, 34.48],\n",
    "        [\"04-19-2019\", 34.84, 34.99, 34.23, 34.46],\n",
    "        [\"04-20-2019\", 34.38, 35.03, 34.34, 34.71],\n",
    "\n",
    "    ]\n",
    "}\n",
    "\n",
    "# Dictionary of Dictionary\n",
    "# Key: Stock Ticker | Value: Dictionary\n",
    "new_records = {\n",
    "    \"AAPL\": {\n",
    "        \"date\": \"04-21-2019\",\n",
    "        \"open\": 200.85,\n",
    "        \"high\": 201.00,\n",
    "        \"low\": 198.44,\n",
    "        \"close\": 198.95\n",
    "    },\n",
    "    \"MU\": {\n",
    "        \"date\": \"04-21-2019\",\n",
    "        \"open\": 42.85,\n",
    "        \"high\": 43.20,\n",
    "        \"low\": 41.81,\n",
    "        \"close\": 42.01\n",
    "    },\n",
    "    \"AMD\": {\n",
    "        \"date\": \"04-21-2019\",\n",
    "        \"open\": 28.21,\n",
    "        \"high\": 28.38,\n",
    "        \"low\": 27.66,\n",
    "        \"close\": 27.85\n",
    "    },\n",
    "    \"TWTR\": {\n",
    "        \"date\": \"04-21-2019\",\n",
    "        \"open\": 34.67,\n",
    "        \"high\": 34.83,\n",
    "        \"low\": 34.11,\n",
    "        \"close\": 34.37\n",
    "    }\n",
    "}\n"
   ]
  },
  {
   "cell_type": "code",
   "execution_count": 11,
   "id": "603c6ba7-35ff-4972-8842-0805dccc329b",
   "metadata": {},
   "outputs": [
    {
     "ename": "SyntaxError",
     "evalue": "invalid syntax (<ipython-input-11-3c0a958ce469>, line 3)",
     "output_type": "error",
     "traceback": [
      "\u001b[0;36m  File \u001b[0;32m\"<ipython-input-11-3c0a958ce469>\"\u001b[0;36m, line \u001b[0;32m3\u001b[0m\n\u001b[0;31m    historical_stock_data[stock_ticker].append(record)\u001b[0m\n\u001b[0m    ^\u001b[0m\n\u001b[0;31mSyntaxError\u001b[0m\u001b[0;31m:\u001b[0m invalid syntax\n"
     ]
    }
   ],
   "source": [
    "for stock_ticker, stock_ticker_record in new_records.items():\n",
    "    record = [stock_ticker_record['date'], stock_ticker_record['open'], stock_ticker_record['high'], stock_ticker_record['low'], stock_ticker_record['close']\n",
    "    historical_stock_data[stock_ticker].append(record)\n",
    "\n",
    "    print(historical_stock_data)\n",
    "            "
   ]
  }
 ],
 "metadata": {
  "kernelspec": {
   "display_name": "Python 3",
   "language": "python",
   "name": "python3"
  },
  "language_info": {
   "codemirror_mode": {
    "name": "ipython",
    "version": 3
   },
   "file_extension": ".py",
   "mimetype": "text/x-python",
   "name": "python",
   "nbconvert_exporter": "python",
   "pygments_lexer": "ipython3",
   "version": "3.8.8"
  }
 },
 "nbformat": 4,
 "nbformat_minor": 5
}
