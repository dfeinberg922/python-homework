{
 "cells": [
  {
   "cell_type": "code",
   "execution_count": 1,
   "id": "3b4af042-8546-4dfd-ab27-177cb77000b5",
   "metadata": {},
   "outputs": [],
   "source": [
    "# -*- coding: utf-8 -*-\n",
    "\"\"\"Student Do: Sales Analysis.\n",
    "This script will use the Pathlib library to set the file path,\n",
    "use the csv library to read in the file, and iterate over each\n",
    "row of the file to calculate customer sales averages.\n",
    "\"\"\"\n",
    "\n",
    "# @TODO: Import the pathlib and csv library\n",
    "\n",
    "\n",
    "\n",
    "# @TODO: Set the file path\n",
    "\n",
    "\n",
    "# Initialize list of records\n",
    "records = []\n",
    "\n",
    "# @TODO: Open the csv file as an object\n",
    "\n",
    "\n",
    "    # @TODO:\n",
    "    # Pass in the csv file to the csv.reader() function\n",
    "    # (with ',' as the delmiter/separator) and return the csvreader object\n",
    "\n",
    "    # @TODO: Read the header row\n",
    "\n",
    "    # @TODO: Print the header\n",
    "\n",
    "\n",
    "    # @TODO: Append the column 'Average' to the header\n",
    "\n",
    "    # @TODO: Append the header to the list of records\n",
    "\n",
    "\n",
    "    # @TODO: Read each row of data after the header\n",
    "\n",
    "        # @TODO: Print the row\n",
    "\n",
    "        # @TODO:\n",
    "        # Set the 'name', 'count', 'revenue' variables for better\n",
    "        # readability, convert strings to ints for numerical calculations\n",
    "\n",
    "\n",
    "\n",
    "\n",
    "        # @TODO: Calculate the average (round to the nearest 2 decimal places)\n",
    "\n",
    "\n",
    "        # @TODO: Append the average to the row\n",
    "\n",
    "        # @TODO: Append the row to the list of records\n",
    "\n",
    "\n",
    "# @TODO: Set the path for the output.csv\n",
    "\n",
    "# @TODO:\n",
    "# Open the output path as a file and pass into the 'csv.writer()' function\n",
    "# Set the delimiter/separater as a ','\n",
    "\n",
    "\n",
    "    # @TODO:\n",
    "    # Loop through the list of records and write every record to the\n",
    "    # output csv file\n"
   ]
  },
  {
   "cell_type": "code",
   "execution_count": 5,
   "id": "29eb2bc2-bd0d-4b86-8b24-f9e357cb391f",
   "metadata": {},
   "outputs": [],
   "source": [
    "from pathlib import Path\n",
    "import csv"
   ]
  },
  {
   "cell_type": "code",
   "execution_count": 12,
   "id": "deb31598-7ff1-4e4d-9b4b-2321ab1755e1",
   "metadata": {},
   "outputs": [],
   "source": [
    "csvpath = Path('week_2_Week2_HW_PyBank_budget_data.csv')"
   ]
  },
  {
   "cell_type": "code",
   "execution_count": 13,
   "id": "0ecbbbb7-e09d-42c6-991e-256fd914c489",
   "metadata": {},
   "outputs": [],
   "source": [
    "records = []"
   ]
  },
  {
   "cell_type": "code",
   "execution_count": 18,
   "id": "02d174a3-63e4-42d0-8e17-1ca60ba1892f",
   "metadata": {},
   "outputs": [
    {
     "name": "stdout",
     "output_type": "stream",
     "text": [
      "['Date', 'Profit/Losses']\n"
     ]
    }
   ],
   "source": [
    "with open(csvpath, 'r') as csvfile:\n",
    "    csvreader = csv.reader(csvfile, delimiter=',')\n",
    "    csv_header = next(csvreader)\n",
    "    print(csv_header)"
   ]
  },
  {
   "cell_type": "code",
   "execution_count": 24,
   "id": "8a3498a2-e499-461c-93aa-137940342d5c",
   "metadata": {},
   "outputs": [],
   "source": [
    "csv_header.append(\"Average\")"
   ]
  },
  {
   "cell_type": "code",
   "execution_count": 25,
   "id": "c5608bac-1810-408c-a0b9-6e442230980d",
   "metadata": {},
   "outputs": [],
   "source": [
    "records.append(csv_header)"
   ]
  },
  {
   "cell_type": "code",
   "execution_count": null,
   "id": "d04ae41a-7052-40d7-9a2c-c926a4bf14c4",
   "metadata": {},
   "outputs": [],
   "source": []
  }
 ],
 "metadata": {
  "kernelspec": {
   "display_name": "Python 3",
   "language": "python",
   "name": "python3"
  },
  "language_info": {
   "codemirror_mode": {
    "name": "ipython",
    "version": 3
   },
   "file_extension": ".py",
   "mimetype": "text/x-python",
   "name": "python",
   "nbconvert_exporter": "python",
   "pygments_lexer": "ipython3",
   "version": "3.8.8"
  }
 },
 "nbformat": 4,
 "nbformat_minor": 5
}
