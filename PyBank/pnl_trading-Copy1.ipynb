{
 "cells": [
  {
   "cell_type": "code",
   "execution_count": 1,
   "id": "bc6197db-9a8c-4ec5-988d-080afb074c9e",
   "metadata": {},
   "outputs": [],
   "source": [
    "count = 0\n",
    "total = 0\n",
    "average = 0\n",
    "minimum = 0\n",
    "maximum = 0"
   ]
  },
  {
   "cell_type": "code",
   "execution_count": 2,
   "id": "2c6003ba-09b9-4fe4-80b9-5a151a0f8701",
   "metadata": {},
   "outputs": [],
   "source": [
    "profitable_days = []\n",
    "unprofitable_days = []"
   ]
  },
  {
   "cell_type": "code",
   "execution_count": 3,
   "id": "8b35666f-c4fe-4722-92b5-5d8c981de261",
   "metadata": {},
   "outputs": [],
   "source": [
    "trading_pnl = [-224, 352, 252, 354, -544, -650, 56, 123, -43, 254, 325, -123, 47, 321, 123, 133, -151, 613, 232, -311]"
   ]
  },
  {
   "cell_type": "code",
   "execution_count": 14,
   "id": "2c0f2f9d-18f4-402e-8c7c-d3427e6a6809",
   "metadata": {},
   "outputs": [],
   "source": [
    "for day_pnl in trading_pnl:\n",
    "    total += day_pnl\n",
    "    count += 1"
   ]
  },
  {
   "cell_type": "code",
   "execution_count": 9,
   "id": "1b4cb6e1-1b6c-4788-afe3-48ce0d8310e1",
   "metadata": {},
   "outputs": [],
   "source": [
    "if minimum == 0:\n",
    "    minimum = day_pnl\n",
    "elif day_pnl < minimum:\n",
    "    minimum = day_pnl\n",
    "if day_pnl>0:\n",
    "    profitable_days.append(day_pnl)\n",
    "elif day_pnl <= 0:\n",
    "    unprofitable_days.append(day_pnl)"
   ]
  },
  {
   "cell_type": "code",
   "execution_count": 10,
   "id": "c84a7fc3-2487-49c8-86c4-608e976b66e8",
   "metadata": {},
   "outputs": [],
   "source": [
    "average = round(total/count,2)"
   ]
  },
  {
   "cell_type": "code",
   "execution_count": 11,
   "id": "a92fbe63-b732-4e24-b643-917d37c7935e",
   "metadata": {},
   "outputs": [],
   "source": [
    "profitable_count = len(profitable_days)\n",
    "unprofitable_count = len(unprofitable_days)"
   ]
  },
  {
   "cell_type": "code",
   "execution_count": 12,
   "id": "24ad0bf8-4d66-46e5-be59-f56430b336d8",
   "metadata": {},
   "outputs": [],
   "source": [
    "percent_profitable = profitable_count * 100\n",
    "percent_unprofitable = unprofitable_count * 100"
   ]
  },
  {
   "cell_type": "code",
   "execution_count": 15,
   "id": "b346286e-bc79-4ef3-b83b-9e65f86c2ab0",
   "metadata": {},
   "outputs": [
    {
     "name": "stdout",
     "output_type": "stream",
     "text": [
      "---------Summary Statistics----------\n",
      "Number of Total Days: 40\n",
      "Number of Profitable Days: 0\n",
      "Number of Unprofitable Days: 0\n",
      "Percentage of Profitable Days: 0%\n",
      "Percentage of Unprofitable Days: 0%\n",
      "-------------------------------------\n",
      "Profitable Days: []\n",
      "Unprofitable Days: []\n",
      "-------------------------------------\n",
      "Total Profits/Losses: 2278\n",
      "Daily Average: 56.95\n",
      "Worst Loss: -311\n",
      "Best Gain: 0\n"
     ]
    }
   ],
   "source": [
    "print(\"---------Summary Statistics----------\")\n",
    "print(f\"Number of Total Days: {count}\")\n",
    "print(f\"Number of Profitable Days: {profitable_count}\")\n",
    "print(f\"Number of Unprofitable Days: {unprofitable_count}\")\n",
    "print(f\"Percentage of Profitable Days: {percent_profitable}%\")\n",
    "print(f\"Percentage of Unprofitable Days: {percent_unprofitable}%\")\n",
    "print(\"-------------------------------------\")\n",
    "print(f\"Profitable Days: {profitable_days}\")\n",
    "print(f\"Unprofitable Days: {unprofitable_days}\")\n",
    "print(\"-------------------------------------\")\n",
    "print(f\"Total Profits/Losses: {total}\")\n",
    "print(f\"Daily Average: {average}\")\n",
    "print(f\"Worst Loss: {minimum}\")\n",
    "print(f\"Best Gain: {maximum}\")\n"
   ]
  },
  {
   "cell_type": "code",
   "execution_count": null,
   "id": "19867340-e5ea-42cd-b75e-6a60e8032799",
   "metadata": {},
   "outputs": [],
   "source": []
  }
 ],
 "metadata": {
  "kernelspec": {
   "display_name": "Python 3",
   "language": "python",
   "name": "python3"
  },
  "language_info": {
   "codemirror_mode": {
    "name": "ipython",
    "version": 3
   },
   "file_extension": ".py",
   "mimetype": "text/x-python",
   "name": "python",
   "nbconvert_exporter": "python",
   "pygments_lexer": "ipython3",
   "version": "3.8.8"
  }
 },
 "nbformat": 4,
 "nbformat_minor": 5
}
