{
 "cells": [
  {
   "cell_type": "code",
   "execution_count": 1,
   "id": "d9d6a8ed-24db-4135-af4b-b3b3548973a4",
   "metadata": {},
   "outputs": [
    {
     "name": "stdout",
     "output_type": "stream",
     "text": [
      "['Date', 'Profit/Losses']\n",
      "----------------------------------------------------------------\n",
      "['Feb-2017', 671099]\n",
      "Count: 86\n",
      "Total: 38382578\n"
     ]
    }
   ],
   "source": [
    "# Importing csv module\n",
    "import csv\n",
    "# open and access the csv file\n",
    "seperator = \"-\" * 64\n",
    "with open('week_2_Week2_HW_PyBank_budget_data.csv', newline='') as csvfile:\n",
    "    # declared spreadsheet variable and read the file\n",
    "#     spreadsheet = csv.reader(csvfile, delimiter=' ', quotechar='|')\n",
    "    spreadsheet = csv.reader(csvfile, delimiter=',')\n",
    "    header = next(spreadsheet)\n",
    "    print(header)\n",
    "    print(seperator)\n",
    "    count = 0\n",
    "    total = 0\n",
    "    average = []\n",
    "    minimum = 999999999999\n",
    "    maximum = -999999999999\n",
    "    minimum_month = \"\"\n",
    "    maximum_month = \"\"\n",
    "    previous_month = 0\n",
    "    \n",
    "    \n",
    "    \n",
    "\n",
    "\n",
    "    # looped through the spreadsheet\n",
    "\n",
    "    for row in spreadsheet:\n",
    "        count += 1\n",
    "        row[1] = int(row[1])\n",
    "        total += row[1]\n",
    "        if count >1 :\n",
    "            change = row[1]-previous_month\n",
    "            average.append(change)\n",
    "            if change < minimum:\n",
    "                minimum = change\n",
    "                minimum_month = row[0]\n",
    "            if change > maximum:\n",
    "                maximum = change\n",
    "                maximum_month = row[0]\n",
    "        \n",
    "        \n",
    "        previous_month = row[1]\n",
    "\n",
    "\n",
    "\n",
    "print(row)\n",
    "print(\"Count:\", count)\n",
    "print(\"Total:\", total)"
   ]
  },
  {
   "cell_type": "code",
   "execution_count": 2,
   "id": "8d68b20a-09db-4dad-b790-1e03903546b6",
   "metadata": {},
   "outputs": [
    {
     "data": {
      "text/plain": [
       "85"
      ]
     },
     "execution_count": 2,
     "metadata": {},
     "output_type": "execute_result"
    }
   ],
   "source": [
    "len(average)"
   ]
  },
  {
   "cell_type": "code",
   "execution_count": 3,
   "id": "3ea7a109-146a-4997-9267-055ed0285d65",
   "metadata": {},
   "outputs": [
    {
     "name": "stdout",
     "output_type": "stream",
     "text": [
      "\n",
      "Financial Analysis\n",
      "----------------------------\n",
      "Total Months: 86\n",
      "Total: $38,382,578\n",
      "Average  Change: $-2,315.1176\n",
      "Greatest Increase in Profits: Feb-2012 ($1,926,159)\n",
      "Greatest Decrease in Profits: Sep-2013 ($-2,196,167)\n",
      "\n"
     ]
    }
   ],
   "source": [
    "ret = f'''\n",
    "Financial Analysis\n",
    "----------------------------\n",
    "Total Months: {count}\n",
    "Total: ${total:,.0f}\n",
    "Average  Change: ${sum(average)/len(average):,.4f}\n",
    "Greatest Increase in Profits: {maximum_month} (${maximum:,.0f})\n",
    "Greatest Decrease in Profits: {minimum_month} (${minimum:,.0f})\n",
    "'''\n",
    "print(ret)"
   ]
  },
  {
   "cell_type": "code",
   "execution_count": 4,
   "id": "ee196052-9db7-4dba-a080-6fdcd07b9667",
   "metadata": {},
   "outputs": [],
   "source": [
    "output_path = ('Financial_Analysis.txt')"
   ]
  },
  {
   "cell_type": "code",
   "execution_count": 5,
   "id": "008b0d6f-9452-406b-a545-96e3282b89e0",
   "metadata": {},
   "outputs": [],
   "source": [
    "with open(output_path, 'w') as file:      \n",
    "    file.write(f\"Financial Analysis\\n\")\n",
    "    file.write(f\"----------------------------\\n\")\n",
    "    file.write(f\"Total Months: 86\\n\")\n",
    "    file.write(f\"Total: $38,382,578\\n\")\n",
    "    file.write(f\"Average  Change: $-2,315.1176.\\n\")\n",
    "    file.write(f\"Greatest Increase in Profits: Feb-2012 ($1,926,159)\\n\")\n",
    "    file.write(f\"Greatest Decrease in Profits: Sep-2013 ($-2,196,167)\\n\")"
   ]
  }
 ],
 "metadata": {
  "kernelspec": {
   "display_name": "Python 3",
   "language": "python",
   "name": "python3"
  },
  "language_info": {
   "codemirror_mode": {
    "name": "ipython",
    "version": 3
   },
   "file_extension": ".py",
   "mimetype": "text/x-python",
   "name": "python",
   "nbconvert_exporter": "python",
   "pygments_lexer": "ipython3",
   "version": "3.8.8"
  }
 },
 "nbformat": 4,
 "nbformat_minor": 5
}
