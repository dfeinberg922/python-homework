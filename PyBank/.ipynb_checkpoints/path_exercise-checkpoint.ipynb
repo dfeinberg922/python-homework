{
 "cells": [
  {
   "cell_type": "code",
   "execution_count": 11,
   "id": "6e108e3c-0d67-430b-b750-1de99d3e1aea",
   "metadata": {},
   "outputs": [],
   "source": [
    "# -*- coding: utf-8 -*-\n",
    "\"\"\"Student Do: E-Commerce Traffic.\n",
    "This script will parse through a text file and sum the total\n",
    "number of customers and the count of days in the text file to\n",
    "calculate the daily average of customer traffic for an e-commerce\n",
    "business.\n",
    "\"\"\"\n",
    "\n",
    "# @TODO: From the pathlib library, import the main class Path\n",
    "\n",
    "\n",
    "# @TODO: Check the current directory where the Python program is executing from\n",
    "\n",
    "\n",
    "# @TODO: Set the path using Pathlib\n",
    "\n",
    "\n",
    "# Initialize variables\n",
    "customer_total = 0\n",
    "day_count = 0\n",
    "\n",
    "# @TODO: Open the file in \"read\" mode ('r') and store the contents in the variable 'file'\n",
    "\n",
    "    # @TODO: Parse the file line by line\n",
    "\n",
    "\n",
    "        # @TODO: Convert the number in the text file from string to int (allows for numerical calculations)\n",
    "\n",
    "\n",
    "        # @TODO: Sum the total and count of the numbers in the text file\n",
    "\n",
    "\n",
    "\n",
    "# @TODO: Print out customer_total and day_count\n",
    "\n",
    "\n",
    "\n",
    "\n",
    "# @TODO: Calculate the average\n",
    "\n",
    "\n",
    "\n",
    "# @TODO: Set output file name\n",
    "\n",
    "\n",
    "# @TODO: Open the output path as a file object\n",
    "\n",
    "    # @TODO: Write daily_average to the output file, convert to string\n"
   ]
  },
  {
   "cell_type": "code",
   "execution_count": 12,
   "id": "c7da4a49-198a-4d0b-91fb-b990afeb0405",
   "metadata": {},
   "outputs": [],
   "source": [
    "from pathlib import Path"
   ]
  },
  {
   "cell_type": "code",
   "execution_count": 16,
   "id": "228857b0-e319-460e-8255-105482e14dc4",
   "metadata": {},
   "outputs": [
    {
     "data": {
      "text/plain": [
       "PosixPath('customer_traffic.txt')"
      ]
     },
     "execution_count": 16,
     "metadata": {},
     "output_type": "execute_result"
    }
   ],
   "source": [
    "Path(\"customer_traffic.txt\")"
   ]
  },
  {
   "cell_type": "code",
   "execution_count": 17,
   "id": "7d9a1858-a640-4041-a471-357351ed087c",
   "metadata": {},
   "outputs": [],
   "source": [
    "customer_total = 4945\n",
    "day_count = 100"
   ]
  },
  {
   "cell_type": "code",
   "execution_count": null,
   "id": "8a701c0e-8d14-49e7-997c-f7cbda3b9349",
   "metadata": {},
   "outputs": [],
   "source": []
  }
 ],
 "metadata": {
  "kernelspec": {
   "display_name": "Python 3",
   "language": "python",
   "name": "python3"
  },
  "language_info": {
   "codemirror_mode": {
    "name": "ipython",
    "version": 3
   },
   "file_extension": ".py",
   "mimetype": "text/x-python",
   "name": "python",
   "nbconvert_exporter": "python",
   "pygments_lexer": "ipython3",
   "version": "3.8.8"
  }
 },
 "nbformat": 4,
 "nbformat_minor": 5
}
