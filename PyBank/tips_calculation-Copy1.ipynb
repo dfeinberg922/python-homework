{
 "cells": [
  {
   "cell_type": "code",
   "execution_count": 2,
   "id": "8f7dd490-a26c-4b98-88a7-3ed74ecaa00e",
   "metadata": {},
   "outputs": [],
   "source": [
    "count = 0 \n",
    "total = 0\n",
    "average = 0\n",
    "minimum = 0\n",
    "maximum = 0"
   ]
  },
  {
   "cell_type": "code",
   "execution_count": 3,
   "id": "95a2c3b0-e5e4-4bcc-a86d-47baac138285",
   "metadata": {},
   "outputs": [],
   "source": [
    "cash_tips = [22, 10, 30, 45, 54, 60, 56]"
   ]
  },
  {
   "cell_type": "code",
   "execution_count": 5,
   "id": "d04556d9-96af-443e-a8db-bb645baa84c4",
   "metadata": {},
   "outputs": [
    {
     "name": "stdout",
     "output_type": "stream",
     "text": [
      "22\n",
      "10\n",
      "30\n",
      "45\n",
      "54\n",
      "60\n",
      "56\n"
     ]
    }
   ],
   "source": [
    "for tip in cash_tips:\n",
    "    print(tip)"
   ]
  },
  {
   "cell_type": "code",
   "execution_count": 6,
   "id": "92a164d1-2312-48fc-a209-fc416e4290ac",
   "metadata": {},
   "outputs": [],
   "source": [
    "for tip in cash_tips:\n",
    "    \n",
    "    count += 1\n",
    "    total += tip\n",
    "    \n",
    "    if tip > maximum:\n",
    "        maximum = tip\n",
    "    elif tip < minimum:\n",
    "        minimum = tip\n",
    "        \n",
    "average = total/count"
   ]
  },
  {
   "cell_type": "code",
   "execution_count": 7,
   "id": "22432e29-4dac-4106-8b5f-40a99836c039",
   "metadata": {},
   "outputs": [
    {
     "name": "stdout",
     "output_type": "stream",
     "text": [
      "60\n",
      "0\n",
      "39.57\n"
     ]
    }
   ],
   "source": [
    "print(maximum)\n",
    "print(minimum)\n",
    "print(round(average,2))"
   ]
  },
  {
   "cell_type": "code",
   "execution_count": null,
   "id": "bc6197db-9a8c-4ec5-988d-080afb074c9e",
   "metadata": {},
   "outputs": [],
   "source": []
  }
 ],
 "metadata": {
  "kernelspec": {
   "display_name": "Python 3",
   "language": "python",
   "name": "python3"
  },
  "language_info": {
   "codemirror_mode": {
    "name": "ipython",
    "version": 3
   },
   "file_extension": ".py",
   "mimetype": "text/x-python",
   "name": "python",
   "nbconvert_exporter": "python",
   "pygments_lexer": "ipython3",
   "version": "3.8.8"
  }
 },
 "nbformat": 4,
 "nbformat_minor": 5
}
